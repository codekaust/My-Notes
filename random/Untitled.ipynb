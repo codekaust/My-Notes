{
 "cells": [
  {
   "cell_type": "code",
   "execution_count": 1,
   "metadata": {},
   "outputs": [],
   "source": [
    "import matplotlib.pyplot as plt"
   ]
  },
  {
   "cell_type": "code",
   "execution_count": 36,
   "metadata": {},
   "outputs": [],
   "source": [
    "DIR = \"/home/kaustubh/My-Notes/random/\"\n",
    "\n",
    "f1 = \"10000 1500 2\"\n",
    "f2 = \"10000 400 2\"\n",
    "f3 = \"1000 1000 2\""
   ]
  },
  {
   "cell_type": "code",
   "execution_count": 3,
   "metadata": {},
   "outputs": [],
   "source": [
    "SAVE_PLOTS_LOCATION = \"./plot_imgs/\"\n",
    "# Create folder to save plot images if not present already\n",
    "import os\n",
    "\n",
    "if not os.path.exists(SAVE_PLOTS_LOCATION):\n",
    "    os.makedirs(SAVE_PLOTS_LOCATION)"
   ]
  },
  {
   "cell_type": "code",
   "execution_count": 18,
   "metadata": {
    "code_folding": [
     0
    ]
   },
   "outputs": [
    {
     "name": "stdout",
     "output_type": "stream",
     "text": [
      "1593010061953\n"
     ]
    }
   ],
   "source": [
    "# Parse f1\n",
    "arr = []\n",
    "def parse_file(file):\n",
    "    f = open(file, \"r\")\n",
    "    for x in f:\n",
    "        splits = x.split(\" : \")\n",
    "        if(splits[0]==\"NOW\"):\n",
    "            arr.append(int(splits[1]))\n",
    "\n",
    "parse_file(DIR+f1)\n",
    "\n",
    "# for x in arr:\n",
    "#     print(x)\n",
    "\n",
    "\n",
    "min_ = min(arr)\n",
    "print(min_)\n",
    "\n",
    "mx = 0\n",
    "dic = {}\n",
    "for i in range(256):\n",
    "    tmp = 0\n",
    "    for x in arr:\n",
    "        if (x/1000 - min_/1000 <= i):\n",
    "            tmp +=1\n",
    "    dic[i] = tmp\n",
    "\n",
    "# for x in dic:\n",
    "#     print(x, dic[x])\n",
    "\n",
    "# print(mx)"
   ]
  },
  {
   "cell_type": "code",
   "execution_count": 38,
   "metadata": {
    "code_folding": []
   },
   "outputs": [
    {
     "name": "stdout",
     "output_type": "stream",
     "text": [
      "19013394.9576\n"
     ]
    }
   ],
   "source": [
    "# Parse f2\n",
    "arr2 = []\n",
    "def parse_file2(file):\n",
    "    f = open(file, \"r\")\n",
    "    for x in f:\n",
    "        splits = x.split(\" : \")\n",
    "        if(splits[0]==\"DIFF\"):\n",
    "            tmp = splits[1].split('E')\n",
    "            arr2.append(float(tmp[0])*10000000)\n",
    "# #             if(tmp[1] != 7):\n",
    "#             print(tmp[1])\n",
    "parse_file2(DIR+f2)\n",
    "\n",
    "\n",
    "\n",
    "\n",
    "\n",
    "\n",
    "min2_ = min(arr2)\n",
    "print(min2_)\n",
    "\n",
    "dic2 = {}\n",
    "for i in range(256):\n",
    "    tmp = 0\n",
    "    for x in arr2:\n",
    "        if (x/1000 - min2_/1000 <= i):\n",
    "            tmp +=1\n",
    "    dic2[i] = tmp\n",
    "\n",
    "# for x in dic2:\n",
    "#     print(x, dic2[x])"
   ]
  },
  {
   "cell_type": "code",
   "execution_count": 51,
   "metadata": {},
   "outputs": [
    {
     "name": "stdout",
     "output_type": "stream",
     "text": [
      "1593009945005\n"
     ]
    }
   ],
   "source": [
    "# Parse f3\n",
    "arr3 = []\n",
    "def parse_file3(file):\n",
    "    f = open(file, \"r\")\n",
    "    for x in f:\n",
    "        splits = x.split(\" : \")\n",
    "        if(splits[0]==\"NOW\"):\n",
    "            arr3.append(int(splits[1]))\n",
    "\n",
    "parse_file3(DIR+f3)\n",
    "\n",
    "# for x in arr:\n",
    "#     print(x)\n",
    "\n",
    "\n",
    "min_3 = min(arr3)\n",
    "print(min_3)\n",
    "\n",
    "# mx = 0\n",
    "dic3 = {}\n",
    "for i in range(21):\n",
    "    tmp = 0\n",
    "    for x in arr3:\n",
    "        if (x/1000 - min_3/1000 <= i):\n",
    "            tmp += 1\n",
    "    dic3[i] = tmp\n",
    "\n",
    "# for x in dic:\n",
    "#     print(x, dic[x])\n",
    "\n",
    "# print(mx)"
   ]
  },
  {
   "cell_type": "code",
   "execution_count": 56,
   "metadata": {},
   "outputs": [
    {
     "data": {
      "image/png": "[encoded data removed]",
      "text/plain": [
       "<Figure size 648x432 with 1 Axes>"
      ]
     },
     "metadata": {
      "needs_background": "light"
     },
     "output_type": "display_data"
    }
   ],
   "source": [
    "def plot_data():\n",
    "    plt.figure(figsize=(9, 6))\n",
    "    x_vals = []\n",
    "    y_vals = []\n",
    "    x_vals2 = []\n",
    "    y_vals2 = []\n",
    "    for x in dic:\n",
    "        x_vals.append(x)\n",
    "        y_vals.append(dic[x])\n",
    "    \n",
    "    for x in dic2:\n",
    "        x_vals2.append(x)\n",
    "        y_vals2.append(dic2[x])\n",
    "        \n",
    "    \n",
    "    \n",
    "    plt.plot(\n",
    "        x_vals,\n",
    "        y_vals,\n",
    "#         linestyle=\":\",\n",
    "        label=\"Threads = 1000\",\n",
    "#         c=\"black\",\n",
    "        linewidth=3,\n",
    "    )\n",
    "    plt.plot(\n",
    "        x_vals2,\n",
    "        y_vals2,\n",
    "#         linestyle=\":\",\n",
    "        label=\"Threads = 400\",\n",
    "#         c=\"black\",\n",
    "        linewidth=3,\n",
    "    )\n",
    "#     plt.plot(x_vals, round_trip_times, label=\"Avg. Round Trip Time Values\", c=\"green\")\n",
    "    plt.ylabel(\"Number of queries completed\",fontweight ='bold',fontsize=12)\n",
    "#     plt.xlabel()\n",
    "    plt.xlabel(\"Time in seconds\",fontweight ='bold',fontsize=12);\n",
    "    plt.legend()\n",
    "    # save figure\n",
    "    plt.savefig(SAVE_PLOTS_LOCATION + f1 + \".png\")\n",
    "    plt.show()\n",
    "    \n",
    "    \n",
    "    \n",
    "    \n",
    "    \n",
    "plot_data()"
   ]
  },
  {
   "cell_type": "code",
   "execution_count": 58,
   "metadata": {},
   "outputs": [
    {
     "data": {
      "image/png": "[encoded data removed]",
      "text/plain": [
       "<Figure size 648x432 with 1 Axes>"
      ]
     },
     "metadata": {
      "needs_background": "light"
     },
     "output_type": "display_data"
    }
   ],
   "source": [
    "def plot_data3():\n",
    "    plt.figure(figsize=(9, 6))\n",
    "\n",
    "    x_vals3 = []\n",
    "    y_vals3 = []\n",
    "    \n",
    "    for x in dic3:\n",
    "        x_vals3.append(x)\n",
    "        y_vals3.append(dic3[x])\n",
    "    plt.plot(\n",
    "        x_vals3,\n",
    "        y_vals3,\n",
    "#         linestyle=\":\",\n",
    "        label=\"Threads = 1000\",\n",
    "#         c=\"black\",\n",
    "        linewidth=2,\n",
    "    )\n",
    "#     plt.plot(x_vals, round_trip_times, label=\"Avg. Round Trip Time Values\", c=\"green\")\n",
    "    plt.ylabel(\"Number of queries completed\",fontweight ='bold',fontsize=12)\n",
    "#     plt.xlabel()\n",
    "    plt.xlabel(\"Time in seconds\",fontweight ='bold',fontsize=12);\n",
    "    plt.legend()\n",
    "    # save figure\n",
    "    plt.savefig(SAVE_PLOTS_LOCATION + f3 + \".png\")\n",
    "    plt.show()\n",
    "    \n",
    "plot_data3()"
   ]
  },
  {
   "cell_type": "code",
   "execution_count": null,
   "metadata": {},
   "outputs": [],
   "source": []
  },
  {
   "cell_type": "code",
   "execution_count": 78,
   "metadata": {},
   "outputs": [
    {
     "name": "stdout",
     "output_type": "stream",
     "text": [
      "['116.25ms\\n', '4.44s\\n', '973.09ms\\n', '2.73s\\n', '20.10s\\n', '29.03s\\n', '1.31m\\n', '3.24m\\n']\n",
      "116.25ms\n",
      "\n",
      "1\n",
      "0.11625  \n",
      "\n",
      "4.44s\n",
      "\n",
      "3\n",
      "4.44  \n",
      "\n",
      "973.09ms\n",
      "\n",
      "1\n",
      "0.97309  \n",
      "\n",
      "2.73s\n",
      "\n",
      "3\n",
      "2.73  \n",
      "\n",
      "20.10s\n",
      "\n",
      "3\n",
      "20.1  \n",
      "\n",
      "29.03s\n",
      "\n",
      "3\n",
      "29.03  \n",
      "\n",
      "1.31m\n",
      "\n",
      "2\n",
      "78.60000000000001  \n",
      "\n",
      "3.24m\n",
      "\n",
      "2\n",
      "194.4  \n",
      "\n",
      "['673.86ms\\n', '5.40s\\n', '2.75s\\n', '5.84s\\n', '32.96s\\n', '55.24s\\n', '2.41m\\n', '5.69m\\n']\n",
      "[0.11625, 4.44, 0.97309, 2.73, 20.1, 29.03, 78.60000000000001, 194.4]\n"
     ]
    },
    {
     "data": {
      "image/png": "[encoded data removed]",
      "text/plain": [
       "<Figure size 648x432 with 1 Axes>"
      ]
     },
     "metadata": {
      "needs_background": "light"
     },
     "output_type": "display_data"
    }
   ],
   "source": [
    "def plot_data4():\n",
    "    plt.figure(figsize=(9, 6))\n",
    "\n",
    "    x_vals = ['100','250','500','1000','5000','10000','25000','50000']\n",
    "    pltime = []\n",
    "    exec_tim = []\n",
    "\n",
    "    def parse_file4(file):\n",
    "        f = open(file, \"r\")\n",
    "        for x in f:\n",
    "            splits = x.split(\"\t\")\n",
    "            if(splits[0]==\"Planning Time\"):\n",
    "                pltime.append(splits[1])\n",
    "            if(splits[0]==\"Execution Time\"):\n",
    "                exec_tim.append(splits[1])\n",
    "\n",
    "    parse_file4(DIR+\"big data\")\n",
    "\n",
    "    print(pltime)\n",
    "    \n",
    "    for i in range(len(pltime)):\n",
    "        print(pltime[i])\n",
    "        if(pltime[i][len(pltime[i])-2] == 's' and pltime[i][len(pltime[i])-3] == 'm'):\n",
    "            print(1)\n",
    "            pltime[i] = float((pltime[i].split('ms'))[0])/1000\n",
    "        \n",
    "        elif(pltime[i][len(pltime[i])-2] == 'm'):\n",
    "            print(2)\n",
    "            pltime[i] = float((pltime[i].split('m'))[0])*60\n",
    "        \n",
    "        else:\n",
    "            print(3)\n",
    "            pltime[i] = float((pltime[i].split('s'))[0])\n",
    "        print(pltime[i],\" \\n\")\n",
    "\n",
    "    print(exec_tim)\n",
    "    for i in range(len(exec_tim)):\n",
    "        if(exec_tim[i][len(exec_tim[i])-2] == 's' and exec_tim[i][len(exec_tim[i])-3] == 'm'):\n",
    "            exec_tim[i] = float((exec_tim[i].split('ms'))[0])/1000\n",
    "        \n",
    "        elif(exec_tim[i][len(exec_tim[i])-2] == 'm'):\n",
    "            exec_tim[i] = float((exec_tim[i].split('m'))[0])*60\n",
    "        \n",
    "        else:\n",
    "            exec_tim[i] = float((exec_tim[i].split('s'))[0])\n",
    "\n",
    "            \n",
    "    \n",
    "    print(pltime)\n",
    "\n",
    "    plt.plot(\n",
    "        x_vals,\n",
    "        pltime,\n",
    "#         linestyle=\":\",\n",
    "        label=\"Planning Time\",\n",
    "#         c=\"black\",\n",
    "        linewidth=2,\n",
    "    )\n",
    "    \n",
    "    plt.plot(\n",
    "        x_vals,\n",
    "        exec_tim,\n",
    "#         linestyle=\":\",\n",
    "        label=\"Execution Time\",\n",
    "#         c=\"black\",\n",
    "        linewidth=2,\n",
    "    )\n",
    "    \n",
    "    \n",
    "#     plt.plot(x_vals, round_trip_times, label=\"Avg. Round Trip Time Values\", c=\"green\")\n",
    "    plt.ylabel(\"Time in Seconds\",fontweight ='bold',fontsize=12)\n",
    "#     plt.xlabel()\n",
    "    plt.xlabel(\"Number of Partitions Queried\",fontweight ='bold',fontsize=12);\n",
    "    plt.legend()\n",
    "    # save figure\n",
    "    plt.savefig(SAVE_PLOTS_LOCATION + \"big_data\" + \".png\")\n",
    "    plt.show()\n",
    "    \n",
    "plot_data4()"
   ]
  },
  {
   "cell_type": "code",
   "execution_count": null,
   "metadata": {},
   "outputs": [],
   "source": []
  }
 ],
 "metadata": {
  "kernelspec": {
   "display_name": "Python 3",
   "language": "python",
   "name": "python3"
  },
  "language_info": {
   "codemirror_mode": {
    "name": "ipython",
    "version": 3
   },
   "file_extension": ".py",
   "mimetype": "text/x-python",
   "name": "python",
   "nbconvert_exporter": "python",
   "pygments_lexer": "ipython3",
   "version": "3.7.3"
  }
 },
 "nbformat": 4,
 "nbformat_minor": 4
}
